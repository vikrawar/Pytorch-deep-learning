{
 "cells": [
  {
   "cell_type": "markdown",
   "id": "intro",
   "metadata": {},
   "source": [
    "# Deep Learning with PyTorch\n",
    "---\n",
    "#### In our previous notebooks, we built neural networks entirely from scratch using just NumPy, gaining a deep understanding of matrix multiplications, forward propagation, backpropagation, and gradient descent.\n",
    "#### Now, we'll transition to using a powerful deep learning framework: **PyTorch**.\n",
    "#### **PyTorch** takes care of the heavy lifting for us, from automatic gradient computation to GPU acceleration, allowing us to focus more on building and experimenting, and less on debugging the math. \n",
    "#### We'll implement the same deep neural network architecture that we built manually in our previous notebook, first by leveraging PyTorch's low-level tensor operations and automatic differentiation, and then by using its higher-level `nn.Module` API.\n",
    "---\n",
    "This notebook assumes you're familiar with the concepts covered in:\n",
    "- [Logistic Regression from Scratch](https://github.com/vikrawar/from-scratch-logistic-regression)\n",
    "- [2-Layer NN from Scratch](https://github.com/vikrawar/2-layer-nn-from-scratch)\n",
    "- [Deep NN from Scratch](https://github.com/vikrawar/deep-nn-from-scratch)\n",
    "\n",
    "Understanding the manual implementation is key to appreciating the power and abstraction that PyTorch provides!"
   ]
  },
  {
   "cell_type": "markdown",
   "id": "data_prep",
   "metadata": {},
   "source": [
    "## Data Generation\n",
    "\n",
    "We will use the same randomly generated dataset from our previous *[Deep NN from Scratch](https://github.com/vikrawar/deep-nn-from-scratch)* notebook. This dataset has 20 features and 1000 examples with binary labels.\n",
    "\n",
    "Please note that this is a completly randomly generated dataset with no inherent correlations. This is done to keep the focus on learning.\n",
    "\n",
    "---\n",
    "\n",
    "PyTorch tensors are the fundamental data structures in PyTorch. They are akin to NumPy's arrays.\n",
    "\n",
    "Note on Tensor Shapes: PyTorch expects input data in the format `(batch_size, num_features)`. Therefore, our `X_tensor` will be shaped as `(1000, 20)`, and our `Y_tensor` (for binary classification loss) will be `(1000, 1)`."
   ]
  },
  {
   "cell_type": "code",
   "execution_count": 1,
   "id": "a89f57b9",
   "metadata": {},
   "outputs": [
    {
     "name": "stdout",
     "output_type": "stream",
     "text": [
      "PyTorch X_tensor shape: torch.Size([1000, 20])\n",
      "PyTorch Y_tensor shape: torch.Size([1000, 1])\n"
     ]
    }
   ],
   "source": [
    "import torch\n",
    "import torch.nn as nn\n",
    "import torch.nn.functional as F # For activation functions\n",
    "import torch.optim as optim\n",
    "import matplotlib.pyplot as plt\n",
    "\n",
    "torch.manual_seed(42)\n",
    "\n",
    "X_tensor = torch.randn(1000, 20).float()\n",
    "Y_tensor = (torch.rand(1000, 1) > 0.5).float()\n",
    "\n",
    "print(f\"PyTorch X_tensor shape: {X_tensor.shape}\")\n",
    "print(f\"PyTorch Y_tensor shape: {Y_tensor.shape}\")"
   ]
  },
  {
   "cell_type": "markdown",
   "id": "part1",
   "metadata": {},
   "source": [
    "---\n",
    "\n",
    "## Building our Neural Network in PyTorch\n",
    "\n",
    "We will build the same deep neural network architecture `[20, 64, 64, 64, 64, 1]` using PyTorch's fundamental building blocks.\n",
    "\n",
    "One of the most powerful features of PyTorch is its `autograd` engine. PyTorch automatically computes the gradients for all tensors that have `requires_grad=True`, by calling `.backward()`"
   ]
  },
  {
   "cell_type": "markdown",
   "id": "init_params_pt_manual",
   "metadata": {},
   "source": [
    "### Initializing Parameters"
   ]
  },
  {
   "cell_type": "code",
   "execution_count": 2,
   "id": "0dab6ece",
   "metadata": {},
   "outputs": [
    {
     "name": "stdout",
     "output_type": "stream",
     "text": [
      "Initialized parameters:\n",
      "W1: torch.Size([20, 64])\n",
      "b1: torch.Size([1, 64])\n",
      "W2: torch.Size([64, 64])\n",
      "b2: torch.Size([1, 64])\n",
      "W3: torch.Size([64, 64])\n",
      "b3: torch.Size([1, 64])\n",
      "W4: torch.Size([64, 64])\n",
      "b4: torch.Size([1, 64])\n",
      "W5: torch.Size([64, 1])\n",
      "b5: torch.Size([1, 1])\n"
     ]
    }
   ],
   "source": [
    "layer_dims = [20, 64, 64, 64, 64, 1]\n",
    "\n",
    "def initialize_parameters(layer_dims):\n",
    "    parameters = {}\n",
    "    for l in range(1, len(layer_dims)):\n",
    "        # Weights with He initialization (for ReLU)\n",
    "        parameters[f\"W{l}\"] = torch.randn(layer_dims[l-1], layer_dims[l]) * torch.sqrt(torch.tensor(2.0 / layer_dims[l-1]))\n",
    "        parameters[f\"W{l}\"].requires_grad_(True)\n",
    "        \n",
    "        # Biases\n",
    "        parameters[f\"b{l}\"] = torch.zeros(1, layer_dims[l])\n",
    "        parameters[f\"b{l}\"].requires_grad_(True)\n",
    "    return parameters\n",
    "\n",
    "params = initialize_parameters(layer_dims);\n",
    "\n",
    "print(\"Initialized parameters:\")\n",
    "for key, value in params.items():\n",
    "    print(f\"{key}: {value.shape}\")"
   ]
  },
  {
   "cell_type": "markdown",
   "id": "activations_pt",
   "metadata": {},
   "source": [
    "### Activation Functions"
   ]
  },
  {
   "cell_type": "code",
   "execution_count": 3,
   "id": "334d7633",
   "metadata": {},
   "outputs": [],
   "source": [
    "# ReLU activation\n",
    "def relu(Z):\n",
    "    return F.relu(Z)\n",
    "\n",
    "# Sigmoid activation\n",
    "def sigmoid(Z):\n",
    "    return torch.sigmoid(Z)"
   ]
  },
  {
   "cell_type": "markdown",
   "id": "training_pt_manual",
   "metadata": {},
   "source": [
    "### Training Loop"
   ]
  },
  {
   "cell_type": "code",
   "execution_count": 4,
   "id": "13f9de64",
   "metadata": {},
   "outputs": [],
   "source": [
    "def train(X, Y, layer_dims, epochs, lr):\n",
    "\n",
    "    # Initialize parameters\n",
    "    params = initialize_parameters(layer_dims)\n",
    "    W1, b1 = params['W1'], params['b1']\n",
    "    W2, b2 = params['W2'], params['b2']\n",
    "    W3, b3 = params['W3'], params['b3']\n",
    "    W4, b4 = params['W4'], params['b4']\n",
    "    W5, b5 = params['W5'], params['b5']\n",
    "\n",
    "    costs = []\n",
    "    cost = nn.BCELoss() # Binary Cross-Entropy Loss\n",
    "\n",
    "    print(\"\\n--- Training Deep NN (PyTorch Manual) ---\")\n",
    "\n",
    "    for epoch in range(epochs):\n",
    "        \n",
    "        # Forward Pass\n",
    "        Z1 = X @ W1 + b1 # (1000, 20) @ (20, 64) -> (1000, 64)\n",
    "        A1 = relu(Z1)\n",
    "        Z2 = A1 @ W2 + b2 # (1000, 64) @ (64, 64) -> (1000, 64)\n",
    "        A2 = relu(Z2)\n",
    "        Z3 = A2 @ W3 + b3 # (1000, 64) @ (64, 64) -> (1000, 64)\n",
    "        A3 = relu(Z3)\n",
    "        Z4 = A3 @ W4 + b4 # (1000, 64) @ (64, 64) -> (1000, 64)\n",
    "        A4 = relu(Z4)\n",
    "        Z5 = A4 @ W5 + b5 # (1000, 64) @ (64, 1) -> (1000, 1)\n",
    "        A5 = sigmoid(Z5) # (1000, 1)\n",
    "\n",
    "        # Backward Pass (Autograd)\n",
    "        # In PyTorch, each parameter with requires_grad_=True accumulates gradients, as we go throguh the network. \n",
    "        # Therefore, we need to zero out the gradients before each backward pass\n",
    "        W1.grad = None\n",
    "        b1.grad = None\n",
    "        W2.grad = None\n",
    "        b2.grad = None\n",
    "        W3.grad = None\n",
    "        b3.grad = None\n",
    "        W4.grad = None\n",
    "        b4.grad = None\n",
    "        W5.grad = None\n",
    "        b5.grad = None\n",
    "\n",
    "        # Calculating the cost\n",
    "        current_cost = cost(A5, Y)\n",
    "        costs.append(current_cost.item()) # .item() to get scalar value from tensor\n",
    "\n",
    "        # Calculating the gradients\n",
    "        current_cost.backward() # Magic happens here!\n",
    "\n",
    "        # Update Parameters\n",
    "        with torch.no_grad(): # Disable automatic gradient calculations for the updates\n",
    "            W1 -= lr * W1.grad\n",
    "            b1 -= lr * b1.grad\n",
    "            W2 -= lr * W2.grad\n",
    "            b2 -= lr * b2.grad\n",
    "            W3 -= lr * W3.grad\n",
    "            b3 -= lr * b3.grad\n",
    "            W4 -= lr * W4.grad\n",
    "            b4 -= lr * b4.grad\n",
    "            W5 -= lr * W5.grad\n",
    "            b5 -= lr * b5.grad\n",
    "\n",
    "        if epoch % 100 == 0:\n",
    "            print(f\"Epoch {epoch}: Cost = {current_cost.item():.4f}\")\n",
    "\n",
    "    # Final prediction and accuracy\n",
    "    with torch.no_grad(): # Disable automatic gradient calculations for this too\n",
    "        Z1_final = X @ W1 + b1\n",
    "        A1_final = relu(Z1_final)\n",
    "        Z2_final = A1_final @ W2 + b2\n",
    "        A2_final = relu(Z2_final)\n",
    "        Z3_final = A2_final @ W3 + b3\n",
    "        A3_final = relu(Z3_final)\n",
    "        Z4_final = A3_final @ W4 + b4\n",
    "        A4_final = relu(Z4_final)\n",
    "        Z5_final = A4_final @ W5 + b5\n",
    "        A5_final = sigmoid(Z5_final)\n",
    "    \n",
    "    preds = (A5_final > 0.5).float()\n",
    "    accuracy = (preds == Y).float().mean() \n",
    "    print(f\"Final Accuracy (PyTorch Manual): {accuracy.item()*100:.2f}%\")\n",
    "    \n",
    "    return costs"
   ]
  },
  {
   "cell_type": "code",
   "execution_count": 5,
   "id": "faa17d8d",
   "metadata": {},
   "outputs": [
    {
     "name": "stdout",
     "output_type": "stream",
     "text": [
      "\n",
      "--- Training Deep NN (PyTorch Manual) ---\n",
      "Epoch 0: Cost = 0.7685\n",
      "Epoch 100: Cost = 0.5849\n",
      "Epoch 200: Cost = 0.5007\n",
      "Epoch 300: Cost = 0.4711\n",
      "Epoch 400: Cost = 0.1559\n",
      "Epoch 500: Cost = 0.0806\n",
      "Epoch 600: Cost = 0.0305\n",
      "Epoch 700: Cost = 0.0155\n",
      "Epoch 800: Cost = 0.0094\n",
      "Epoch 900: Cost = 0.0064\n",
      "Epoch 1000: Cost = 0.0047\n",
      "Final Accuracy (PyTorch Manual): 100.00%\n"
     ]
    }
   ],
   "source": [
    "costs_pytorch_low_level = train(X_tensor, Y_tensor, layer_dims, epochs=1001, lr=0.1)"
   ]
  },
  {
   "cell_type": "markdown",
   "id": "part2",
   "metadata": {},
   "source": [
    "## Deep NN with PyTorch's High-Level API (`nn.Module`)\n",
    "\n",
    "Now, let's see how much cleaner and more abstracted the code becomes when using PyTorch's `nn.Module` and `nn.Linear` layers. "
   ]
  },
  {
   "cell_type": "markdown",
   "id": "model_class",
   "metadata": {},
   "source": [
    "### Defining the Model Class\n",
    "\n",
    "This class encapsulates the network's architecture, parameters, and the forward pass logic. It's a much more organized way to define complex models."
   ]
  },
  {
   "cell_type": "code",
   "execution_count": 6,
   "id": "c52fde2f",
   "metadata": {},
   "outputs": [
    {
     "name": "stdout",
     "output_type": "stream",
     "text": [
      "High-Level PyTorch Model Architecture:\n",
      "DeepNN(\n",
      "  (fc1): Linear(in_features=20, out_features=64, bias=True)\n",
      "  (fc2): Linear(in_features=64, out_features=64, bias=True)\n",
      "  (fc3): Linear(in_features=64, out_features=64, bias=True)\n",
      "  (fc4): Linear(in_features=64, out_features=64, bias=True)\n",
      "  (fc5): Linear(in_features=64, out_features=1, bias=True)\n",
      ")\n"
     ]
    }
   ],
   "source": [
    "class DeepNN(nn.Module):\n",
    "\n",
    "    # Weights and bias initialization logic\n",
    "    def __init__(self, input_dim, hidden_dim, output_dim):\n",
    "        super(DeepNN, self).__init__()\n",
    "        self.fc1 = nn.Linear(input_dim, hidden_dim) \n",
    "        self.fc2 = nn.Linear(hidden_dim, hidden_dim) \n",
    "        self.fc3 = nn.Linear(hidden_dim, hidden_dim) \n",
    "        self.fc4 = nn.Linear(hidden_dim, hidden_dim) \n",
    "        self.fc5 = nn.Linear(hidden_dim, output_dim) \n",
    "\n",
    "        # Weights with He initialization (for ReLU)\n",
    "        for m in self.modules():\n",
    "            if isinstance(m, nn.Linear):\n",
    "                nn.init.kaiming_normal_(m.weight, nonlinearity='relu')\n",
    "                nn.init.zeros_(m.bias)\n",
    "\n",
    "    # Forward pass logic\n",
    "    def forward(self, x):\n",
    "        x = F.relu(self.fc1(x))\n",
    "        x = F.relu(self.fc2(x)) \n",
    "        x = F.relu(self.fc3(x)) \n",
    "        x = F.relu(self.fc4(x)) \n",
    "        x = torch.sigmoid(self.fc5(x))\n",
    "        return x\n",
    "\n",
    "# Instantiate the model\n",
    "high_level_model = DeepNN(input_dim=layer_dims[0], hidden_dim=layer_dims[1], output_dim=layer_dims[-1])\n",
    "\n",
    "print(\"High-Level PyTorch Model Architecture:\")\n",
    "print(high_level_model)"
   ]
  },
  {
   "cell_type": "markdown",
   "id": "training_pt_high_level",
   "metadata": {},
   "source": [
    "### Training Loop\n",
    "\n",
    "The training loop becomes significantly more concise. We define an `optimizer` to handle parameter updates, and the `.backward()` call on the loss automatically calculates gradients through the `nn.Module`'s computational graph."
   ]
  },
  {
   "cell_type": "code",
   "execution_count": 7,
   "id": "b2454141",
   "metadata": {},
   "outputs": [],
   "source": [
    "def train_deep_nn_pytorch_high_level(model, X, Y, epochs, lr):\n",
    "\n",
    "    # Loss function\n",
    "    criterion = nn.BCELoss() \n",
    "    \n",
    "    # Optimizer\n",
    "    optimizer = optim.SGD(model.parameters(), lr=lr)\n",
    "\n",
    "    costs = []\n",
    "    print(\"\\n--- Training Deep NN (PyTorch High-Level) ---\")\n",
    "\n",
    "    for epoch in range(epochs):\n",
    "        # Forward Pass\n",
    "        predictions = model(X)\n",
    "\n",
    "        # Calculating the cost\n",
    "        cost = criterion(predictions, Y)\n",
    "        costs.append(cost.item())\n",
    "\n",
    "        # Backward Pass and Optimization\n",
    "        optimizer.zero_grad() # Clear previous gradients\n",
    "        cost.backward()       # Compute gradients\n",
    "        optimizer.step()      # Update parameters\n",
    "\n",
    "        if epoch % 100 == 0:\n",
    "            print(f\"Epoch {epoch}: Loss = {cost.item():.4f}\")\n",
    "\n",
    "    # Final prediction and accuracy\n",
    "    with torch.no_grad(): # Disable automatic gradient calculations for evaluation\n",
    "        final_predictions = model(X)\n",
    "    \n",
    "    preds_binary = (final_predictions > 0.5).float()\n",
    "    accuracy = (preds_binary == Y).float().mean()\n",
    "    print(f\"Final Accuracy (PyTorch High-Level): {accuracy.item()*100:.2f}%\")\n",
    "    \n",
    "    return costs"
   ]
  },
  {
   "cell_type": "code",
   "execution_count": 8,
   "id": "6bb361c2",
   "metadata": {},
   "outputs": [
    {
     "name": "stdout",
     "output_type": "stream",
     "text": [
      "\n",
      "--- Training Deep NN (PyTorch High-Level) ---\n",
      "Epoch 0: Loss = 0.7338\n",
      "Epoch 100: Loss = 0.5865\n",
      "Epoch 200: Loss = 0.4866\n",
      "Epoch 300: Loss = 0.3612\n",
      "Epoch 400: Loss = 0.1917\n",
      "Epoch 500: Loss = 1.8863\n",
      "Epoch 600: Loss = 0.0331\n",
      "Epoch 700: Loss = 0.0173\n",
      "Epoch 800: Loss = 0.0108\n",
      "Epoch 900: Loss = 0.0074\n",
      "Epoch 1000: Loss = 0.0055\n",
      "Final Accuracy (PyTorch High-Level): 100.00%\n"
     ]
    }
   ],
   "source": [
    "costs_pytorch_high_level = train_deep_nn_pytorch_high_level(high_level_model, X_tensor, Y_tensor, epochs=1001, lr=0.1)"
   ]
  },
  {
   "cell_type": "markdown",
   "id": "plotting",
   "metadata": {},
   "source": [
    "## Plotting the Cost\n",
    "\n",
    "Let's compare the training costs of the manual PyTorch implementation and the high-level `nn.Module` implementation. Ideally, they should show very similar learning curves, demonstrating that the higher-level API effectively abstracts away the underlying manual tensor operations."
   ]
  },
  {
   "cell_type": "code",
   "execution_count": 9,
   "id": "da01732f",
   "metadata": {},
   "outputs": [
    {
     "data": {
      "image/png": "[encoded data removed]",
      "text/plain": [
       "<Figure size 1000x600 with 1 Axes>"
      ]
     },
     "metadata": {},
     "output_type": "display_data"
    }
   ],
   "source": [
    "plt.figure(figsize=(10, 6))\n",
    "plt.plot(costs_pytorch_low_level, label='PyTorch Manual Cost')\n",
    "plt.plot(costs_pytorch_high_level, label='PyTorch High-Level Cost', linestyle='--')\n",
    "plt.title('Cost Over Training Iterations (PyTorch Manual vs. High-Level)')\n",
    "plt.xlabel('Epoch')\n",
    "plt.ylabel('Cost')\n",
    "plt.legend()\n",
    "plt.grid(True)\n",
    "plt.show()"
   ]
  },
  {
   "cell_type": "markdown",
   "id": "c5b55292-e00b-4bac-a8b6-60f2f8ef687a",
   "metadata": {},
   "source": [
    "Note how the cost reduces at a much faster pace as compaired with our manual NumPy implementation. PyTorch has many such under the hood optimizations.  \n",
    "Again, don't worry about the cost bouncing up and down in the middle, such is the nature of neural networks (specially as we go deeper and deeper). Techniques have been created to counter this behavior, which I hope to get into in future notebooks!\n",
    "\n",
    "---"
   ]
  },
  {
   "cell_type": "markdown",
   "id": "wrap_up",
   "metadata": {},
   "source": [
    "## 🎉 Wrap-Up\n",
    "\n",
    "In this notebook, we took our manually built deep neural network and recreated it using PyTorch:\n",
    "\n",
    "-   We started with a **low-level PyTorch implementation**, using `torch.Tensor` operations and managing gradients via `autograd`. This showed how our NumPy from scratch implementation maps to PyTorch.\n",
    "-   We then transitioned to a **high-level PyTorch implementation** using `nn.Module` and `nn.Linear`. This showcased the abstraction and efficiency that PyTorch provides for building and training complex models.\n",
    "\n",
    "Both approaches yielded comparable results, demonstrating that PyTorch's higher-level APIs simply streamline the process without sacrificing control or functionality.  \n",
    "I hope this journey, from building neural networks from scratch uning NumPy, to building neural networks using a powerful high level library, PyTorch, has equipped you with a deeper understanding of deep learning and what happens under the hood of neural networks and \n",
    "\n",
    "---\n",
    "\n",
    "Thanks for following along!  \n",
    "If you found this helpful, consider ⭐️ the repo or sharing it with someone learning deep learning."
   ]
  },
  {
   "cell_type": "code",
   "execution_count": null,
   "id": "33046e35-5e26-444d-b837-143e8a0333a3",
   "metadata": {},
   "outputs": [],
   "source": []
  }
 ],
 "metadata": {
  "kernelspec": {
   "display_name": "Python 3 (ipykernel)",
   "language": "python",
   "name": "python3"
  },
  "language_info": {
   "codemirror_mode": {
    "name": "ipython",
    "version": 3
   },
   "file_extension": ".py",
   "mimetype": "text/x-python",
   "name": "python",
   "nbconvert_exporter": "python",
   "pygments_lexer": "ipython3",
   "version": "3.10.14"
  }
 },
 "nbformat": 4,
 "nbformat_minor": 5
}
